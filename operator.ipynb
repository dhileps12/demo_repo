{
 "cells": [
  {
   "cell_type": "code",
   "execution_count": 2,
   "id": "1f16e6d1-3268-4cec-a028-3b15d9cba0fa",
   "metadata": {},
   "outputs": [
    {
     "name": "stdout",
     "output_type": "stream",
     "text": [
      "19.99\n",
      "False\n"
     ]
    }
   ],
   "source": [
    "# Assigning values\n",
    "x = 10           # integer\n",
    "name = \"Alice\"   # string\n",
    "price = 19.99    # float\n",
    "is_active = False # boolean\n",
    "print(price)\n",
    "print(is_active)"
   ]
  },
  {
   "cell_type": "code",
   "execution_count": 5,
   "id": "a603a24d-09b0-4677-9abe-9336e1204caf",
   "metadata": {},
   "outputs": [
    {
     "name": "stdout",
     "output_type": "stream",
     "text": [
      "29\n",
      "21\n",
      "100\n",
      "6.25\n",
      "6\n",
      "1\n",
      "390625\n"
     ]
    }
   ],
   "source": [
    "# 1.arithmatic operator\n",
    "x = 25\n",
    "y = 4\n",
    "\n",
    "print(x + y)  # Addition → 13\n",
    "print(x - y)  # Subtraction → 7\n",
    "print(x * y)  # Multiplication → 30\n",
    "print(x / y)  # Division (float) → 3.333...\n",
    "print(x // y) # Floor division → 3\n",
    "print(x % y)  # Modulus (remainder) → 1\n",
    "print(x ** y) # Exponentiation → 1000"
   ]
  },
  {
   "cell_type": "code",
   "execution_count": 9,
   "id": "b9c98f49-f969-42f8-845f-a0bbf61aa267",
   "metadata": {},
   "outputs": [
    {
     "name": "stdout",
     "output_type": "stream",
     "text": [
      "2.0\n"
     ]
    }
   ],
   "source": [
    "# 2.assignment operator\n",
    "x = 5\n",
    "y = 3\n",
    "x += y   # x = x + 3 → 8\n",
    "x -= y  # x = x - 2 → 6\n",
    "x *= y   # x = x * 4 → 24\n",
    "x /= y   # x = x / 6 → 4.0\n",
    "x %= y   # x = x % 3 → 1.0\n",
    "print(x)\n"
   ]
  },
  {
   "cell_type": "code",
   "execution_count": 4,
   "id": "2b7a68e4-091e-44e6-9073-78936466dcc6",
   "metadata": {},
   "outputs": [
    {
     "name": "stdout",
     "output_type": "stream",
     "text": [
      "False\n",
      "True\n",
      "False\n",
      "True\n",
      "False\n",
      "True\n"
     ]
    }
   ],
   "source": [
    "# 3. Comparison Operators\n",
    "a, b = 5, 10\n",
    "\n",
    "print(a == b)  # Equal → False\n",
    "print(a != b)  # Not equal → True\n",
    "print(a > b)   # Greater than → False\n",
    "print(a < b)   # Less than → True\n",
    "print(a >= b)  # Greater or equal → False\n",
    "print(a <= b)  # Less or equal → True\n"
   ]
  },
  {
   "cell_type": "code",
   "execution_count": 11,
   "id": "dbc488b7-7403-4148-8b1e-228582f504ad",
   "metadata": {},
   "outputs": [
    {
     "name": "stdout",
     "output_type": "stream",
     "text": [
      "True\n",
      "True\n",
      "False\n"
     ]
    }
   ],
   "source": [
    "# 4. Logical Operators\n",
    "x = True\n",
    "y = True\n",
    "\n",
    "print(x and y)  # AND → False\n",
    "print(x or y)   # OR → True\n",
    "print(not x)    # NOT → False\n"
   ]
  },
  {
   "cell_type": "code",
   "execution_count": 2,
   "id": "8c8033d5-1a61-40f5-8715-24898a161db1",
   "metadata": {},
   "outputs": [
    {
     "name": "stdout",
     "output_type": "stream",
     "text": [
      "2\n",
      "7\n",
      "5\n",
      "-7\n",
      "48\n",
      "3\n"
     ]
    }
   ],
   "source": [
    "# 5. Bitwise Operators\n",
    "a, b = 6, 3  # (6 → 110, 3 → 011)\n",
    "\n",
    "print(a & b)  # AND → 2 (010)\n",
    "print(a | b)  # OR  → 7 (111)\n",
    "print(a ^ b)  # XOR → 5 (101)\n",
    "print(~a)     # NOT → -7\n",
    "print(a << 3) # Left shift → 12\n",
    "print(a >> 1) # Right shift → 3\n"
   ]
  },
  {
   "cell_type": "code",
   "execution_count": 4,
   "id": "3a1fc2a4-349c-477d-8fbe-0608944eeff4",
   "metadata": {},
   "outputs": [
    {
     "name": "stdout",
     "output_type": "stream",
     "text": [
      "True\n",
      "True\n"
     ]
    }
   ],
   "source": [
    "# 6. Membership Operators\n",
    "nums = [1, 2, 3, 4]\n",
    "\n",
    "print(2 in nums)   # True\n",
    "print(5 not in nums) # True\n"
   ]
  },
  {
   "cell_type": "code",
   "execution_count": 9,
   "id": "16de8d54-167f-4246-8735-ab604443ce9c",
   "metadata": {},
   "outputs": [
    {
     "name": "stdout",
     "output_type": "stream",
     "text": [
      "False\n",
      "True\n",
      "True\n"
     ]
    }
   ],
   "source": [
    "# 7. Identity Operators\n",
    "x = [1, 2]\n",
    "y = [1, 2]\n",
    "z = x\n",
    "\n",
    "print(x is y)      # False (different objects in memory)\n",
    "print(x is z)      # True  (same object)\n",
    "print(x is not y)  # True\n"
   ]
  },
  {
   "cell_type": "code",
   "execution_count": null,
   "id": "0a8f30ec-2004-43f5-804a-4dded3d817ee",
   "metadata": {},
   "outputs": [],
   "source": []
  }
 ],
 "metadata": {
  "kernelspec": {
   "display_name": "Python 3 (ipykernel)",
   "language": "python",
   "name": "python3"
  },
  "language_info": {
   "codemirror_mode": {
    "name": "ipython",
    "version": 3
   },
   "file_extension": ".py",
   "mimetype": "text/x-python",
   "name": "python",
   "nbconvert_exporter": "python",
   "pygments_lexer": "ipython3",
   "version": "3.11.9"
  }
 },
 "nbformat": 4,
 "nbformat_minor": 5
}
